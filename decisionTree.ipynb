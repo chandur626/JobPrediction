{
 "cells": [
  {
   "cell_type": "code",
   "execution_count": null,
   "metadata": {},
   "outputs": [],
   "source": [
    "import pandas as pd\n",
    "import numpy as  np\n",
    "import re\n",
    "data=pd.read_csv(\"mini.csv\",encoding='latin-1')\n",
    "skill=[]\n",
    "column=[]\n",
    "for i in range(0,75):\n",
    "    if(type(data['sector'][i]) is str):\n",
    "        for e in re.split(',|-|/|;|and|or',data['sector'][i].lower()):\n",
    "            for p in re.findall(r'\\w\\++|\\w+[\\s,.]\\w+[\\s,.]\\w+[\\s,.]\\w+|\\w+[\\s,.]\\w+[\\s,.]\\w+|\\w+[\\s,.]\\w+|\\w#|\\w+|\\.\\w+',e):\n",
    "                skill.append(p)\n",
    "column=list(set(skill))\n",
    "print(column)\n",
    "my = []\n",
    "row=[]\n",
    "dataframe=pd.DataFrame(columns=column)\n",
    "for i in range(0,75):\n",
    "    my=[]\n",
    "    if(type(data['sector'][i]) is str):\n",
    "        row=[]\n",
    "        for p in re.split(',|-|/|;|and|or',data['sector'][i].lower()):\n",
    "            row.extend(re.findall(r'\\w\\++|\\w+[\\s,.]\\w+[\\s,.]\\w+[\\s,.]\\w+|\\w+[\\s,.]\\w+[\\s,.]\\w+|\\w+[\\s,.]\\w+|\\w#|\\w+|\\.\\w+',p))\n",
    "        for e in column:\n",
    "            if e in row:\n",
    "                my.append('1')\n",
    "            else:\n",
    "                my.append('0')\n",
    "        dataframe.loc[i]=my;\n",
    "\n",
    "dataframe"
   ]
  },
  {
   "cell_type": "code",
   "execution_count": null,
   "metadata": {},
   "outputs": [],
   "source": [
    "job=[]\n",
    "job=data['job_title'][0:75]\n",
    "job"
   ]
  },
  {
   "cell_type": "code",
   "execution_count": null,
   "metadata": {},
   "outputs": [],
   "source": [
    "skill=['c++']\n",
    "pre=[]\n",
    "for e in column:\n",
    "    if e in skill:\n",
    "        pre.append('1')\n",
    "    else:\n",
    "        pre.append('0')\n",
    "\n",
    "data1=pd.DataFrame(columns=column)\n",
    "data1.loc[0]=pre\n",
    "from sklearn import tree\n",
    "model = tree.DecisionTreeClassifier(criterion='entropy') \n",
    "model.fit(dataframe, job)\n",
    "model.score(dataframe, job)\n",
    "predicted3= model.predict(data1[0:1])\n",
    "print(predicted3)"
   ]
  }
 ],
 "metadata": {
  "kernelspec": {
   "display_name": "Python 3",
   "language": "python",
   "name": "python3"
  },
  "language_info": {
   "codemirror_mode": {
    "name": "ipython",
    "version": 3
   },
   "file_extension": ".py",
   "mimetype": "text/x-python",
   "name": "python",
   "nbconvert_exporter": "python",
   "pygments_lexer": "ipython3",
   "version": "3.6.3"
  }
 },
 "nbformat": 4,
 "nbformat_minor": 2
}
